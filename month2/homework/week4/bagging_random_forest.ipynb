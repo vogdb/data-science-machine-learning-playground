{
 "cells": [
  {
   "cell_type": "markdown",
   "metadata": {
    "collapsed": true
   },
   "source": [
    "## Programming Assignment: Бэггинг и случайный лес"
   ]
  },
  {
   "cell_type": "code",
   "execution_count": 6,
   "metadata": {},
   "outputs": [
    {
     "name": "stdout",
     "output_type": "stream",
     "text": [
      "Populating the interactive namespace from numpy and matplotlib\n"
     ]
    }
   ],
   "source": [
    "from sklearn import datasets\n",
    "%pylab inline"
   ]
  },
  {
   "cell_type": "code",
   "execution_count": 8,
   "metadata": {},
   "outputs": [
    {
     "name": "stdout",
     "output_type": "stream",
     "text": [
      "Optical Recognition of Handwritten Digits Data Set\n",
      "===================================================\n",
      "\n",
      "Notes\n",
      "-----\n",
      "Data Set Characteristics:\n",
      "    :Number of Instances: 5620\n",
      "    :Number of Attributes: 64\n",
      "    :Attribute Information: 8x8 image of integer pixels in the range 0..16.\n",
      "    :Missing Attribute Values: None\n",
      "    :Creator: E. Alpaydin (alpaydin '@' boun.edu.tr)\n",
      "    :Date: July; 1998\n",
      "\n",
      "This is a copy of the test set of the UCI ML hand-written digits datasets\n",
      "http://archive.ics.uci.edu/ml/datasets/Optical+Recognition+of+Handwritten+Digits\n",
      "\n",
      "The data set contains images of hand-written digits: 10 classes where\n",
      "each class refers to a digit.\n",
      "\n",
      "Preprocessing programs made available by NIST were used to extract\n",
      "normalized bitmaps of handwritten digits from a preprinted form. From a\n",
      "total of 43 people, 30 contributed to the training set and different 13\n",
      "to the test set. 32x32 bitmaps are divided into nonoverlapping blocks of\n",
      "4x4 and the number of on pixels are counted in each block. This generates\n",
      "an input matrix of 8x8 where each element is an integer in the range\n",
      "0..16. This reduces dimensionality and gives invariance to small\n",
      "distortions.\n",
      "\n",
      "For info on NIST preprocessing routines, see M. D. Garris, J. L. Blue, G.\n",
      "T. Candela, D. L. Dimmick, J. Geist, P. J. Grother, S. A. Janet, and C.\n",
      "L. Wilson, NIST Form-Based Handprint Recognition System, NISTIR 5469,\n",
      "1994.\n",
      "\n",
      "References\n",
      "----------\n",
      "  - C. Kaynak (1995) Methods of Combining Multiple Classifiers and Their\n",
      "    Applications to Handwritten Digit Recognition, MSc Thesis, Institute of\n",
      "    Graduate Studies in Science and Engineering, Bogazici University.\n",
      "  - E. Alpaydin, C. Kaynak (1998) Cascading Classifiers, Kybernetika.\n",
      "  - Ken Tang and Ponnuthurai N. Suganthan and Xi Yao and A. Kai Qin.\n",
      "    Linear dimensionalityreduction using relevance weighted LDA. School of\n",
      "    Electrical and Electronic Engineering Nanyang Technological University.\n",
      "    2005.\n",
      "  - Claudio Gentile. A New Approximate Maximal Margin Classification\n",
      "    Algorithm. NIPS. 2000.\n",
      "\n"
     ]
    }
   ],
   "source": [
    "digits_data = datasets.load_digits()\n",
    "print digits_data.DESCR"
   ]
  },
  {
   "cell_type": "code",
   "execution_count": 10,
   "metadata": {},
   "outputs": [
    {
     "data": {
      "text/plain": [
       "(array([0, 1, 2, ..., 8, 9, 8]), 1797)"
      ]
     },
     "execution_count": 10,
     "metadata": {},
     "output_type": "execute_result"
    }
   ],
   "source": [
    "digits_data.target, len(digits_data.target)"
   ]
  },
  {
   "cell_type": "code",
   "execution_count": 11,
   "metadata": {},
   "outputs": [
    {
     "data": {
      "text/plain": [
       "1797"
      ]
     },
     "execution_count": 11,
     "metadata": {},
     "output_type": "execute_result"
    }
   ],
   "source": [
    "len(digits_data.data)"
   ]
  },
  {
   "cell_type": "code",
   "execution_count": 12,
   "metadata": {},
   "outputs": [
    {
     "data": {
      "text/plain": [
       "64"
      ]
     },
     "execution_count": 12,
     "metadata": {},
     "output_type": "execute_result"
    }
   ],
   "source": [
    "len(digits_data.data[0])"
   ]
  },
  {
   "cell_type": "code",
   "execution_count": 13,
   "metadata": {},
   "outputs": [
    {
     "data": {
      "text/plain": [
       "array([  0.,   0.,   5.,  13.,   9.,   1.,   0.,   0.,   0.,   0.,  13.,\n",
       "        15.,  10.,  15.,   5.,   0.,   0.,   3.,  15.,   2.,   0.,  11.,\n",
       "         8.,   0.,   0.,   4.,  12.,   0.,   0.,   8.,   8.,   0.,   0.,\n",
       "         5.,   8.,   0.,   0.,   9.,   8.,   0.,   0.,   4.,  11.,   0.,\n",
       "         1.,  12.,   7.,   0.,   0.,   2.,  14.,   5.,  10.,  12.,   0.,\n",
       "         0.,   0.,   0.,   6.,  13.,  10.,   0.,   0.,   0.])"
      ]
     },
     "execution_count": 13,
     "metadata": {},
     "output_type": "execute_result"
    }
   ],
   "source": [
    "digits_data.data[0]"
   ]
  },
  {
   "cell_type": "code",
   "execution_count": 14,
   "metadata": {
    "collapsed": true
   },
   "outputs": [],
   "source": [
    "X = digits_data.data\n",
    "y = digits_data.target"
   ]
  },
  {
   "cell_type": "markdown",
   "metadata": {},
   "source": [
    "Для оценки качества далее нужно будет использовать **cross_val_score** из **sklearn.cross_validation** с параметром **cv=10**. Эта функция реализует **k-fold cross validation** c k равным значению параметра cv. Мы предлагаем использовать **k=10**, чтобы полученные оценки качества имели небольшой разброс, и было проще проверить полученные ответы. На практике же часто хватает и **k=5**. Функция **cross_val_score** будет возвращать **numpy.ndarray**, в котором будет **k** чисел - качество в каждом из **k** экспериментов k-fold cross validation. Для получения среднего значения (которое и будет оценкой качества работы) вызовите метод **.mean()** у массива, который возвращает **cross_val_score**."
   ]
  },
  {
   "cell_type": "code",
   "execution_count": 16,
   "metadata": {},
   "outputs": [],
   "source": [
    "from sklearn import cross_validation, tree"
   ]
  },
  {
   "cell_type": "code",
   "execution_count": 17,
   "metadata": {},
   "outputs": [
    {
     "data": {
      "text/plain": [
       "array([ 0.78378378,  0.84699454,  0.81767956,  0.80555556,  0.77653631,\n",
       "        0.89385475,  0.88268156,  0.8258427 ,  0.85310734,  0.83522727])"
      ]
     },
     "execution_count": 17,
     "metadata": {},
     "output_type": "execute_result"
    }
   ],
   "source": [
    "estimator_1 = tree.DecisionTreeClassifier()\n",
    "result_1 = cross_validation.cross_val_score(estimator_1, X, y, cv=10)\n",
    "result_1"
   ]
  },
  {
   "cell_type": "code",
   "execution_count": 18,
   "metadata": {},
   "outputs": [
    {
     "data": {
      "text/plain": [
       "0.83212633725570928"
      ]
     },
     "execution_count": 18,
     "metadata": {},
     "output_type": "execute_result"
    }
   ],
   "source": [
    "result_1.mean()"
   ]
  },
  {
   "cell_type": "code",
   "execution_count": 23,
   "metadata": {
    "collapsed": true
   },
   "outputs": [],
   "source": [
    "def write_answer(number, value):\n",
    "    with open(\"answer{}.txt\".format(number), \"w\") as fout:\n",
    "        fout.write(str(value))"
   ]
  },
  {
   "cell_type": "code",
   "execution_count": 24,
   "metadata": {
    "collapsed": true
   },
   "outputs": [],
   "source": [
    "write_answer(1, result_1.mean())"
   ]
  },
  {
   "cell_type": "code",
   "execution_count": 20,
   "metadata": {
    "collapsed": true
   },
   "outputs": [],
   "source": [
    "from sklearn import ensemble"
   ]
  },
  {
   "cell_type": "code",
   "execution_count": 21,
   "metadata": {},
   "outputs": [
    {
     "data": {
      "text/plain": [
       "array([ 0.86486486,  0.95628415,  0.91712707,  0.94444444,  0.92178771,\n",
       "        0.97765363,  0.96089385,  0.92134831,  0.85875706,  0.91477273])"
      ]
     },
     "execution_count": 21,
     "metadata": {},
     "output_type": "execute_result"
    }
   ],
   "source": [
    "estimator_2 = ensemble.BaggingClassifier(estimator_1, n_estimators=100)\n",
    "result_2 = cross_validation.cross_val_score(estimator_2, X, y, cv=10)\n",
    "result_2"
   ]
  },
  {
   "cell_type": "code",
   "execution_count": 22,
   "metadata": {},
   "outputs": [
    {
     "data": {
      "text/plain": [
       "0.92379338336950645"
      ]
     },
     "execution_count": 22,
     "metadata": {},
     "output_type": "execute_result"
    }
   ],
   "source": [
    "result_2.mean()"
   ]
  },
  {
   "cell_type": "code",
   "execution_count": 25,
   "metadata": {
    "collapsed": true
   },
   "outputs": [],
   "source": [
    "write_answer(2, result_2.mean())\n"
   ]
  },
  {
   "cell_type": "code",
   "execution_count": 32,
   "metadata": {},
   "outputs": [
    {
     "name": "stdout",
     "output_type": "stream",
     "text": [
      "8\n"
     ]
    },
    {
     "data": {
      "text/plain": [
       "array([ 0.9027027 ,  0.96174863,  0.9558011 ,  0.9       ,  0.93854749,\n",
       "        0.94413408,  0.97206704,  0.98876404,  0.88135593,  0.90340909])"
      ]
     },
     "execution_count": 32,
     "metadata": {},
     "output_type": "execute_result"
    }
   ],
   "source": [
    "import numpy as np\n",
    "optimal_num_features = int(np.sqrt(X.shape[1]))\n",
    "print optimal_num_features\n",
    "estimator_3 = ensemble.BaggingClassifier(estimator_1, n_estimators=100, max_features=optimal_num_features)\n",
    "result_3 = cross_validation.cross_val_score(estimator_3, X, y, cv=10)\n",
    "result_3"
   ]
  },
  {
   "cell_type": "code",
   "execution_count": 33,
   "metadata": {},
   "outputs": [
    {
     "data": {
      "text/plain": [
       "0.9348530112963116"
      ]
     },
     "execution_count": 33,
     "metadata": {},
     "output_type": "execute_result"
    }
   ],
   "source": [
    "result_3.mean()"
   ]
  },
  {
   "cell_type": "code",
   "execution_count": 34,
   "metadata": {
    "collapsed": true
   },
   "outputs": [],
   "source": [
    "write_answer(3, result_3.mean())"
   ]
  },
  {
   "cell_type": "code",
   "execution_count": 36,
   "metadata": {},
   "outputs": [
    {
     "data": {
      "text/plain": [
       "array([ 0.9027027 ,  0.97814208,  0.93370166,  0.96666667,  0.94972067,\n",
       "        0.97765363,  0.97765363,  0.97191011,  0.93220339,  0.9375    ])"
      ]
     },
     "execution_count": 36,
     "metadata": {},
     "output_type": "execute_result"
    }
   ],
   "source": [
    "estimator_4_0 = tree.DecisionTreeClassifier(max_features=optimal_num_features)\n",
    "estimator_4 = ensemble.BaggingClassifier(estimator_4_0, n_estimators=100)\n",
    "result_4 = cross_validation.cross_val_score(estimator_4, X, y, cv=10)\n",
    "result_4"
   ]
  },
  {
   "cell_type": "code",
   "execution_count": 37,
   "metadata": {},
   "outputs": [
    {
     "data": {
      "text/plain": [
       "0.95278545384816182"
      ]
     },
     "execution_count": 37,
     "metadata": {},
     "output_type": "execute_result"
    }
   ],
   "source": [
    "result_4.mean()"
   ]
  },
  {
   "cell_type": "code",
   "execution_count": 38,
   "metadata": {
    "collapsed": true
   },
   "outputs": [],
   "source": [
    "write_answer(4, result_4.mean())"
   ]
  },
  {
   "cell_type": "code",
   "execution_count": 40,
   "metadata": {},
   "outputs": [
    {
     "data": {
      "text/plain": [
       "0.95335172681076619"
      ]
     },
     "execution_count": 40,
     "metadata": {},
     "output_type": "execute_result"
    }
   ],
   "source": [
    "from sklearn.ensemble import RandomForestClassifier\n",
    "estimator_rf = RandomForestClassifier(n_estimators=100)\n",
    "result_rf = cross_validation.cross_val_score(estimator_rf, X, y, cv=10)\n",
    "result_rf.mean()"
   ]
  },
  {
   "cell_type": "code",
   "execution_count": 49,
   "metadata": {
    "collapsed": true
   },
   "outputs": [],
   "source": [
    "import matplotlib as plt"
   ]
  },
  {
   "cell_type": "code",
   "execution_count": 48,
   "metadata": {},
   "outputs": [
    {
     "data": {
      "text/plain": [
       "[0.68892515426550016,\n",
       " 0.92163783393014875,\n",
       " 0.93328982216092204,\n",
       " 0.93602937465987457,\n",
       " 0.93996668031050734,\n",
       " 0.93770579171353907,\n",
       " 0.94105141056984976,\n",
       " 0.93888039015114111,\n",
       " 0.93829534223542077,\n",
       " 0.93941120242135678]"
      ]
     },
     "execution_count": 48,
     "metadata": {},
     "output_type": "execute_result"
    }
   ],
   "source": [
    "tree_number_list = np.arange(1, 200, 20)\n",
    "\n",
    "score_mean = []\n",
    "for idx in tree_number_list:\n",
    "    estimator_tree_number = RandomForestClassifier(n_estimators=idx)\n",
    "    result_rf = cross_validation.cross_val_score(estimator_tree_number, X, y, cv=5)\n",
    "    score_mean.append(result_rf.mean())\n",
    "\n",
    "\n",
    "score_mean"
   ]
  },
  {
   "cell_type": "code",
   "execution_count": 53,
   "metadata": {},
   "outputs": [
    {
     "data": {
      "text/plain": [
       "[0.92385916376061716,\n",
       " 0.93204403776138511,\n",
       " 0.92659692410689909,\n",
       " 0.91938324645967973,\n",
       " 0.93047502185842657,\n",
       " 0.92763665247318006,\n",
       " 0.92265292686997036,\n",
       " 0.91659375118395603,\n",
       " 0.91266924735948829,\n",
       " 0.91096707823089884,\n",
       " 0.9176466518079851,\n",
       " 0.91650732175515459,\n",
       " 0.91714792659608901,\n",
       " 0.9109560133627056,\n",
       " 0.90871783491866798]"
      ]
     },
     "execution_count": 53,
     "metadata": {},
     "output_type": "execute_result"
    }
   ],
   "source": [
    "feature_number_list = np.arange(4, X.shape[1], 4)\n",
    "\n",
    "score_mean = []\n",
    "for idx in feature_number_list:\n",
    "    estimator_feature_number = RandomForestClassifier(n_estimators=30, max_features=idx)\n",
    "    result_rf = cross_validation.cross_val_score(estimator_feature_number, X, y, cv=5)\n",
    "    score_mean.append(result_rf.mean())\n",
    "\n",
    "\n",
    "score_mean"
   ]
  },
  {
   "cell_type": "code",
   "execution_count": 54,
   "metadata": {},
   "outputs": [
    {
     "data": {
      "text/plain": [
       "[0.65072493364530237,\n",
       " 0.76844277155159901,\n",
       " 0.82540777265295306,\n",
       " 0.86364416582975101,\n",
       " 0.88654539921005659,\n",
       " 0.90655168753770377,\n",
       " 0.91825599739806196,\n",
       " 0.91827625456861384,\n",
       " 0.91723206504625598,\n",
       " 0.92272551195370656,\n",
       " 0.93268517255064154,\n",
       " 0.9277652892639674,\n",
       " 0.93329663181387235,\n",
       " 0.9316330605234624,\n",
       " 0.92831453387258411,\n",
       " 0.93274839455767078,\n",
       " 0.92828194326182312,\n",
       " 0.92603341698795005,\n",
       " 0.92605355988844162]"
      ]
     },
     "execution_count": 54,
     "metadata": {},
     "output_type": "execute_result"
    }
   ],
   "source": [
    "depth_number_list = np.arange(1, 20, 1)\n",
    "\n",
    "score_mean = []\n",
    "for idx in depth_number_list:\n",
    "    estimator_depth_number = RandomForestClassifier(n_estimators=30, max_depth=idx)\n",
    "    result_rf = cross_validation.cross_val_score(estimator_depth_number, X, y, cv=5)\n",
    "    score_mean.append(result_rf.mean())\n",
    "\n",
    "\n",
    "score_mean"
   ]
  },
  {
   "cell_type": "code",
   "execution_count": 55,
   "metadata": {
    "collapsed": true
   },
   "outputs": [],
   "source": [
    "write_answer(5, \"2 3 4\")"
   ]
  },
  {
   "cell_type": "code",
   "execution_count": null,
   "metadata": {
    "collapsed": true
   },
   "outputs": [],
   "source": []
  }
 ],
 "metadata": {
  "kernelspec": {
   "display_name": "Python 2",
   "language": "python",
   "name": "python2"
  },
  "language_info": {
   "codemirror_mode": {
    "name": "ipython",
    "version": 2
   },
   "file_extension": ".py",
   "mimetype": "text/x-python",
   "name": "python",
   "nbconvert_exporter": "python",
   "pygments_lexer": "ipython2",
   "version": "2.7.14"
  }
 },
 "nbformat": 4,
 "nbformat_minor": 1
}
