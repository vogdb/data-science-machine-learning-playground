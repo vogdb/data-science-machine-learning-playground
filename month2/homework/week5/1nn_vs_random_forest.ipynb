{
 "cells": [
  {
   "cell_type": "markdown",
   "metadata": {
    "collapsed": true
   },
   "source": [
    "В этом задании будет использоваться датасет digits из sklearn.datasets. Оставьте последние 25% объектов для контроля качества, разделив X и y на X_train, y_train и X_test, y_test.\n",
    "\n",
    "Целью задания будет реализовать самый простой метрический классификатор — метод ближайшего соседа, а также сравнить качество работы реализованного вами 1NN с RandomForestClassifier из sklearn на 1000 деревьях."
   ]
  },
  {
   "cell_type": "code",
   "execution_count": 60,
   "metadata": {
    "collapsed": true
   },
   "outputs": [],
   "source": [
    "from sklearn import datasets"
   ]
  },
  {
   "cell_type": "code",
   "execution_count": 61,
   "metadata": {},
   "outputs": [
    {
     "name": "stdout",
     "output_type": "stream",
     "text": [
      "(1797, 64)\n",
      "(1797,)\n",
      "[0 1 2 3 4 5 6 7 8 9]\n",
      "[[  0.   0.   5.  13.   9.   1.   0.   0.   0.   0.  13.  15.  10.  15.\n",
      "    5.   0.   0.   3.  15.   2.   0.  11.   8.   0.   0.   4.  12.   0.\n",
      "    0.   8.   8.   0.   0.   5.   8.   0.   0.   9.   8.   0.   0.   4.\n",
      "   11.   0.   1.  12.   7.   0.   0.   2.  14.   5.  10.  12.   0.   0.\n",
      "    0.   0.   6.  13.  10.   0.   0.   0.]]\n"
     ]
    }
   ],
   "source": [
    "digits_data = datasets.load_digits()\n",
    "print digits_data.data.shape\n",
    "print digits_data.target.shape\n",
    "print digits_data.target_names\n",
    "print digits_data.data[:1]"
   ]
  },
  {
   "cell_type": "code",
   "execution_count": 83,
   "metadata": {},
   "outputs": [
    {
     "name": "stdout",
     "output_type": "stream",
     "text": [
      "1347\n",
      "X.shape (1797, 64)\n",
      "y.shape (1797,)\n",
      "X_train.shape (1347, 64)\n",
      "y_train.shape (1347,)\n",
      "X_test.shape (450, 64)\n",
      "y_test.shape (450,)\n"
     ]
    }
   ],
   "source": [
    "from sklearn.cross_validation import train_test_split\n",
    "\n",
    "y = digits_data.target\n",
    "X = digits_data.data\n",
    "\n",
    "# It's not obvious but we can't use this X_train, X_test, y_train, y_test = train_test_split(X, y, train_size=0.75)\n",
    "# We need to manually split\n",
    "\n",
    "train_size = int(0.75 * len(y))\n",
    "print train_size\n",
    "X_train = X[:train_size]\n",
    "y_train = y[:train_size]\n",
    "X_test = X[train_size:]\n",
    "y_test = y[train_size:]\n",
    "\n",
    "print \"X.shape\", X.shape\n",
    "print \"y.shape\", y.shape\n",
    "print \"X_train.shape\", X_train.shape\n",
    "print \"y_train.shape\", y_train.shape\n",
    "print \"X_test.shape\", X_test.shape\n",
    "print \"y_test.shape\", y_test.shape"
   ]
  },
  {
   "cell_type": "code",
   "execution_count": 84,
   "metadata": {
    "collapsed": true
   },
   "outputs": [],
   "source": [
    "import numpy as np\n",
    "\n",
    "class Regressor_1NN:\n",
    "    def __init__(self):\n",
    "        self._X = None\n",
    "        self._y = None\n",
    "    \n",
    "    def fit(self, X_train, y_train):\n",
    "        self._X = X_train\n",
    "        self._y = y_train\n",
    "        \n",
    "    def predict(self, X_test):\n",
    "        y_predict = []\n",
    "        for x_test_i in X_test:\n",
    "            x_i_dist_list = np.sum((x_test_i - self._X) ** 2, axis = 1)\n",
    "            min_dist_index = np.argmin(x_i_dist_list)\n",
    "            min_dist_y = self._y[min_dist_index]\n",
    "            y_predict.append(min_dist_y)\n",
    "        return y_predict"
   ]
  },
  {
   "cell_type": "code",
   "execution_count": 85,
   "metadata": {},
   "outputs": [],
   "source": [
    "regressor_1NN = Regressor_1NN()\n",
    "regressor_1NN.fit(X_train, y_train)\n",
    "y_predict = regressor_1NN.predict(X_test)"
   ]
  },
  {
   "cell_type": "code",
   "execution_count": 86,
   "metadata": {},
   "outputs": [
    {
     "name": "stdout",
     "output_type": "stream",
     "text": [
      "1NN accuracy is 0.962222222222\n",
      "1NN error is 0.0377777777778\n"
     ]
    }
   ],
   "source": [
    "from sklearn.metrics import accuracy_score\n",
    "score_1NN = accuracy_score(y_test, y_predict)\n",
    "print \"1NN accuracy is\", score_1NN\n",
    "print \"1NN error is\", 1 - score_1NN"
   ]
  },
  {
   "cell_type": "code",
   "execution_count": 87,
   "metadata": {
    "collapsed": true
   },
   "outputs": [],
   "source": [
    "def write_answer(number, answer):\n",
    "    with open(\"answer{}.txt\".format(number), \"w\") as fout:\n",
    "        fout.write(str(answer))"
   ]
  },
  {
   "cell_type": "code",
   "execution_count": 88,
   "metadata": {
    "collapsed": true
   },
   "outputs": [],
   "source": [
    "write_answer(1, (1-score_1NN))"
   ]
  },
  {
   "cell_type": "code",
   "execution_count": 89,
   "metadata": {
    "collapsed": true
   },
   "outputs": [],
   "source": [
    "from sklearn.ensemble import RandomForestClassifier\n",
    "estimator_rf = RandomForestClassifier(n_estimators=1000)"
   ]
  },
  {
   "cell_type": "code",
   "execution_count": 90,
   "metadata": {},
   "outputs": [
    {
     "data": {
      "text/plain": [
       "RandomForestClassifier(bootstrap=True, class_weight=None, criterion='gini',\n",
       "            max_depth=None, max_features='auto', max_leaf_nodes=None,\n",
       "            min_impurity_decrease=0.0, min_impurity_split=None,\n",
       "            min_samples_leaf=1, min_samples_split=2,\n",
       "            min_weight_fraction_leaf=0.0, n_estimators=1000, n_jobs=1,\n",
       "            oob_score=False, random_state=None, verbose=0,\n",
       "            warm_start=False)"
      ]
     },
     "execution_count": 90,
     "metadata": {},
     "output_type": "execute_result"
    }
   ],
   "source": [
    "estimator_rf.fit(X_train, y_train)"
   ]
  },
  {
   "cell_type": "code",
   "execution_count": 91,
   "metadata": {},
   "outputs": [
    {
     "name": "stdout",
     "output_type": "stream",
     "text": [
      "RandomForest accuracy is 0.935555555556\n",
      "RandomForest error is 0.0644444444444\n"
     ]
    }
   ],
   "source": [
    "y_predict = estimator_rf.predict(X_test)\n",
    "score_rf = accuracy_score(y_test, y_predict)\n",
    "print \"RandomForest accuracy is\", score_rf\n",
    "print \"RandomForest error is\", 1 - score_rf"
   ]
  },
  {
   "cell_type": "code",
   "execution_count": 92,
   "metadata": {
    "collapsed": true
   },
   "outputs": [],
   "source": [
    "write_answer(2, 1 - score_rf)"
   ]
  },
  {
   "cell_type": "code",
   "execution_count": null,
   "metadata": {
    "collapsed": true
   },
   "outputs": [],
   "source": []
  }
 ],
 "metadata": {
  "kernelspec": {
   "display_name": "Python 2",
   "language": "python",
   "name": "python2"
  },
  "language_info": {
   "codemirror_mode": {
    "name": "ipython",
    "version": 2
   },
   "file_extension": ".py",
   "mimetype": "text/x-python",
   "name": "python",
   "nbconvert_exporter": "python",
   "pygments_lexer": "ipython2",
   "version": "2.7.14"
  }
 },
 "nbformat": 4,
 "nbformat_minor": 1
}
