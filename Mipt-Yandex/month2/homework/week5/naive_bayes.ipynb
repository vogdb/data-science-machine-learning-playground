{
 "cells": [
  {
   "cell_type": "markdown",
   "metadata": {
    "collapsed": true
   },
   "source": [
    "    В этом задании вы сможете немного расслабиться после реализации случайного леса и градиентного бустинга по мотивам материалов прошлой недели. Все, что нужно будет делать — запускать методы из sklearn. Вам предлагается выяснить, какое распределение лучше использовать в наивном байесовском классификаторе в зависимости от вида признаков."
   ]
  },
  {
   "cell_type": "markdown",
   "metadata": {},
   "source": [
    "Загрузите датасеты digits и breast_cancer из sklearn.datasets. Выведите несколько строчек из обучающих выборок и посмотрите на признаки. С помощью sklearn.cross_validation.cross_val_score c настройками по умолчанию и вызова метода mean() у возвращаемого этой функцией numpy.ndarray, сравните качество работы наивных байесовских классификаторов на этих двух датасетах. Для сравнения предлагается использовать BernoulliNB, MultinomialNB и GaussianNB. Насколько полученные результаты согласуются с рекомендациями из лекций?"
   ]
  },
  {
   "cell_type": "code",
   "execution_count": 1,
   "metadata": {
    "collapsed": true
   },
   "outputs": [],
   "source": [
    "from sklearn import datasets"
   ]
  },
  {
   "cell_type": "code",
   "execution_count": 9,
   "metadata": {},
   "outputs": [
    {
     "name": "stdout",
     "output_type": "stream",
     "text": [
      "(1797, 64)\n",
      "(1797,)\n",
      "[0 1 2 3 4 5 6 7 8 9]\n",
      "[[  0.   0.   5.  13.   9.   1.   0.   0.   0.   0.  13.  15.  10.  15.\n",
      "    5.   0.   0.   3.  15.   2.   0.  11.   8.   0.   0.   4.  12.   0.\n",
      "    0.   8.   8.   0.   0.   5.   8.   0.   0.   9.   8.   0.   0.   4.\n",
      "   11.   0.   1.  12.   7.   0.   0.   2.  14.   5.  10.  12.   0.   0.\n",
      "    0.   0.   6.  13.  10.   0.   0.   0.]]\n"
     ]
    }
   ],
   "source": [
    "digits_data = datasets.load_digits()\n",
    "print digits_data.data.shape\n",
    "print digits_data.target.shape\n",
    "print digits_data.target_names\n",
    "print digits_data.data[:1]"
   ]
  },
  {
   "cell_type": "code",
   "execution_count": 13,
   "metadata": {},
   "outputs": [
    {
     "name": "stdout",
     "output_type": "stream",
     "text": [
      "(569, 30)\n",
      "(569,)\n",
      "['malignant' 'benign']\n",
      "[[  1.79900000e+01   1.03800000e+01   1.22800000e+02   1.00100000e+03\n",
      "    1.18400000e-01   2.77600000e-01   3.00100000e-01   1.47100000e-01\n",
      "    2.41900000e-01   7.87100000e-02   1.09500000e+00   9.05300000e-01\n",
      "    8.58900000e+00   1.53400000e+02   6.39900000e-03   4.90400000e-02\n",
      "    5.37300000e-02   1.58700000e-02   3.00300000e-02   6.19300000e-03\n",
      "    2.53800000e+01   1.73300000e+01   1.84600000e+02   2.01900000e+03\n",
      "    1.62200000e-01   6.65600000e-01   7.11900000e-01   2.65400000e-01\n",
      "    4.60100000e-01   1.18900000e-01]]\n",
      "['mean radius' 'mean texture' 'mean perimeter' 'mean area'\n",
      " 'mean smoothness' 'mean compactness' 'mean concavity'\n",
      " 'mean concave points' 'mean symmetry' 'mean fractal dimension'\n",
      " 'radius error' 'texture error' 'perimeter error' 'area error'\n",
      " 'smoothness error' 'compactness error' 'concavity error'\n",
      " 'concave points error' 'symmetry error' 'fractal dimension error'\n",
      " 'worst radius' 'worst texture' 'worst perimeter' 'worst area'\n",
      " 'worst smoothness' 'worst compactness' 'worst concavity'\n",
      " 'worst concave points' 'worst symmetry' 'worst fractal dimension']\n"
     ]
    }
   ],
   "source": [
    "bcancer_data = datasets.load_breast_cancer()\n",
    "print bcancer_data.data.shape\n",
    "print bcancer_data.target.shape\n",
    "print bcancer_data.target_names\n",
    "print bcancer_data.data[:1]\n",
    "print bcancer_data.feature_names"
   ]
  },
  {
   "cell_type": "code",
   "execution_count": 11,
   "metadata": {},
   "outputs": [
    {
     "name": "stderr",
     "output_type": "stream",
     "text": [
      "/Users/vogdb/anaconda2/lib/python2.7/site-packages/sklearn/cross_validation.py:41: DeprecationWarning: This module was deprecated in version 0.18 in favor of the model_selection module into which all the refactored classes and functions are moved. Also note that the interface of the new CV iterators are different from that of this module. This module will be removed in 0.20.\n",
      "  \"This module will be removed in 0.20.\", DeprecationWarning)\n"
     ]
    }
   ],
   "source": [
    "from sklearn import cross_validation"
   ]
  },
  {
   "cell_type": "code",
   "execution_count": 17,
   "metadata": {
    "collapsed": true
   },
   "outputs": [],
   "source": [
    "digits_X = digits_data.data\n",
    "digits_y = digits_data.target\n",
    "bcancer_X = bcancer_data.data\n",
    "bcancer_y = bcancer_data.target"
   ]
  },
  {
   "cell_type": "code",
   "execution_count": 25,
   "metadata": {},
   "outputs": [
    {
     "name": "stdout",
     "output_type": "stream",
     "text": [
      "BernoulliNB for digits data:  0.825823650778\n",
      "BernoulliNB for bcancer data:  0.627420402859\n",
      "0.726622026819\n"
     ]
    }
   ],
   "source": [
    "from sklearn.naive_bayes import BernoulliNB\n",
    "\n",
    "bernoulli_regressor = BernoulliNB()\n",
    "digits_score = cross_validation.cross_val_score(bernoulli_regressor, digits_X, digits_y)\n",
    "print \"BernoulliNB for digits data: \", digits_score.mean()\n",
    "\n",
    "bernoulli_regressor = BernoulliNB()\n",
    "bcancer_score = cross_validation.cross_val_score(bernoulli_regressor, bcancer_X, bcancer_y)\n",
    "print \"BernoulliNB for bcancer data: \", bcancer_score.mean()\n",
    "\n",
    "print 0.5 * (digits_score.mean() + bcancer_score.mean())"
   ]
  },
  {
   "cell_type": "code",
   "execution_count": 23,
   "metadata": {},
   "outputs": [
    {
     "name": "stdout",
     "output_type": "stream",
     "text": [
      "MultinomialNB for digits data:  0.870877148974\n",
      "MultinomialNB for bcancer data:  0.894579040193\n",
      "0.882728094583\n"
     ]
    }
   ],
   "source": [
    "from sklearn.naive_bayes import MultinomialNB\n",
    "\n",
    "multinomial_regressor = MultinomialNB()\n",
    "digits_score = cross_validation.cross_val_score(multinomial_regressor, digits_X, digits_y)\n",
    "print \"MultinomialNB for digits data: \", digits_score.mean()\n",
    "\n",
    "multinomial_regressor = MultinomialNB()\n",
    "bcancer_score = cross_validation.cross_val_score(multinomial_regressor, bcancer_X, bcancer_y)\n",
    "print \"MultinomialNB for bcancer data: \", bcancer_score.mean()\n",
    "\n",
    "print 0.5 * (digits_score.mean() + bcancer_score.mean())"
   ]
  },
  {
   "cell_type": "code",
   "execution_count": 24,
   "metadata": {},
   "outputs": [
    {
     "name": "stdout",
     "output_type": "stream",
     "text": [
      "GaussianNB for digits data:  0.818600380355\n",
      "GaussianNB for bcancer data:  0.936749280609\n",
      "0.877674830482\n"
     ]
    }
   ],
   "source": [
    "from sklearn.naive_bayes import GaussianNB\n",
    "\n",
    "gaussian_regressor = GaussianNB()\n",
    "digits_score = cross_validation.cross_val_score(gaussian_regressor, digits_X, digits_y)\n",
    "print \"GaussianNB for digits data: \", digits_score.mean()\n",
    "\n",
    "multinomial_regressor = GaussianNB()\n",
    "bcancer_score = cross_validation.cross_val_score(gaussian_regressor, bcancer_X, bcancer_y)\n",
    "print \"GaussianNB for bcancer data: \", bcancer_score.mean()\n",
    "\n",
    "print 0.5 * (digits_score.mean() + bcancer_score.mean())"
   ]
  },
  {
   "cell_type": "code",
   "execution_count": 27,
   "metadata": {
    "collapsed": true
   },
   "outputs": [],
   "source": [
    "def write_answer(number, answer):\n",
    "    with open(\"answer_\" + str(number), \"w\") as fout:\n",
    "        fout.write(str(answer))\n",
    "        \n",
    "write_answer(1, 0.936749280609)\n",
    "write_answer(2, 0.870877148974)\n",
    "write_answer(3, '3 4')"
   ]
  },
  {
   "cell_type": "code",
   "execution_count": null,
   "metadata": {
    "collapsed": true
   },
   "outputs": [],
   "source": []
  }
 ],
 "metadata": {
  "kernelspec": {
   "display_name": "Python 2",
   "language": "python",
   "name": "python2"
  },
  "language_info": {
   "codemirror_mode": {
    "name": "ipython",
    "version": 2
   },
   "file_extension": ".py",
   "mimetype": "text/x-python",
   "name": "python",
   "nbconvert_exporter": "python",
   "pygments_lexer": "ipython2",
   "version": "2.7.14"
  }
 },
 "nbformat": 4,
 "nbformat_minor": 1
}
